{
 "cells": [
  {
   "cell_type": "code",
   "execution_count": 1,
   "id": "a647e3a8",
   "metadata": {},
   "outputs": [
    {
     "name": "stdout",
     "output_type": "stream",
     "text": [
      "^C\n"
     ]
    }
   ],
   "source": [
    "!pip install watson-machine-learning-client --upgrade"
   ]
  },
  {
   "cell_type": "code",
   "execution_count": 2,
   "id": "7060e210",
   "metadata": {},
   "outputs": [
    {
     "name": "stdout",
     "output_type": "stream",
     "text": [
      "Requirement already satisfied: ibm_watson_machine_learning in c:\\users\\laksh\\anaconda3\\lib\\site-packages (1.0.222)\n",
      "Requirement already satisfied: tabulate in c:\\users\\laksh\\anaconda3\\lib\\site-packages (from ibm_watson_machine_learning) (0.8.10)\n",
      "Requirement already satisfied: pandas<1.4.0,>=0.24.2 in c:\\users\\laksh\\anaconda3\\lib\\site-packages (from ibm_watson_machine_learning) (1.3.4)\n",
      "Requirement already satisfied: requests in c:\\users\\laksh\\anaconda3\\lib\\site-packages (from ibm_watson_machine_learning) (2.28.1)\n",
      "Requirement already satisfied: packaging in c:\\users\\laksh\\anaconda3\\lib\\site-packages (from ibm_watson_machine_learning) (21.0)\n",
      "Requirement already satisfied: urllib3 in c:\\users\\laksh\\anaconda3\\lib\\site-packages (from ibm_watson_machine_learning) (1.26.9)\n",
      "Requirement already satisfied: importlib-metadata in c:\\users\\laksh\\anaconda3\\lib\\site-packages (from ibm_watson_machine_learning) (4.8.1)\n",
      "Requirement already satisfied: ibm-cos-sdk==2.11.* in c:\\users\\laksh\\anaconda3\\lib\\site-packages (from ibm_watson_machine_learning) (2.11.0)\n",
      "Requirement already satisfied: certifi in c:\\users\\laksh\\anaconda3\\lib\\site-packages (from ibm_watson_machine_learning) (2021.10.8)\n",
      "Requirement already satisfied: lomond in c:\\users\\laksh\\anaconda3\\lib\\site-packages (from ibm_watson_machine_learning) (0.3.3)\n",
      "Requirement already satisfied: ibm-cos-sdk-s3transfer==2.11.0 in c:\\users\\laksh\\anaconda3\\lib\\site-packages (from ibm-cos-sdk==2.11.*->ibm_watson_machine_learning) (2.11.0)\n",
      "Requirement already satisfied: ibm-cos-sdk-core==2.11.0 in c:\\users\\laksh\\anaconda3\\lib\\site-packages (from ibm-cos-sdk==2.11.*->ibm_watson_machine_learning) (2.11.0)\n",
      "Requirement already satisfied: jmespath<1.0.0,>=0.7.1 in c:\\users\\laksh\\anaconda3\\lib\\site-packages (from ibm-cos-sdk==2.11.*->ibm_watson_machine_learning) (0.10.0)\n",
      "Requirement already satisfied: python-dateutil<3.0.0,>=2.1 in c:\\users\\laksh\\anaconda3\\lib\\site-packages (from ibm-cos-sdk-core==2.11.0->ibm-cos-sdk==2.11.*->ibm_watson_machine_learning) (2.8.2)\n",
      "Requirement already satisfied: pytz>=2017.3 in c:\\users\\laksh\\anaconda3\\lib\\site-packages (from pandas<1.4.0,>=0.24.2->ibm_watson_machine_learning) (2021.3)\n",
      "Requirement already satisfied: numpy>=1.17.3 in c:\\users\\laksh\\anaconda3\\lib\\site-packages (from pandas<1.4.0,>=0.24.2->ibm_watson_machine_learning) (1.20.3)\n",
      "Requirement already satisfied: six>=1.5 in c:\\users\\laksh\\anaconda3\\lib\\site-packages (from python-dateutil<3.0.0,>=2.1->ibm-cos-sdk-core==2.11.0->ibm-cos-sdk==2.11.*->ibm_watson_machine_learning) (1.16.0)\n",
      "Requirement already satisfied: charset-normalizer<3,>=2 in c:\\users\\laksh\\anaconda3\\lib\\site-packages (from requests->ibm_watson_machine_learning) (2.0.4)\n",
      "Requirement already satisfied: idna<4,>=2.5 in c:\\users\\laksh\\anaconda3\\lib\\site-packages (from requests->ibm_watson_machine_learning) (3.2)\n",
      "Requirement already satisfied: zipp>=0.5 in c:\\users\\laksh\\anaconda3\\lib\\site-packages (from importlib-metadata->ibm_watson_machine_learning) (3.6.0)\n",
      "Requirement already satisfied: pyparsing>=2.0.2 in c:\\users\\laksh\\anaconda3\\lib\\site-packages (from packaging->ibm_watson_machine_learning) (3.0.4)\n"
     ]
    }
   ],
   "source": [
    "!pip install ibm_watson_machine_learning"
   ]
  },
  {
   "cell_type": "code",
   "execution_count": 2,
   "id": "492b6b95",
   "metadata": {},
   "outputs": [
    {
     "name": "stdout",
     "output_type": "stream",
     "text": [
      "Python 3.7 and 3.8 frameworks are deprecated and will be removed in a future release. Use Python 3.9 framework instead.\n"
     ]
    }
   ],
   "source": [
    "from ibm_watson_machine_learning import APIClient\n",
    "wml_credentials={\n",
    "    \"url\":\"https://us-south.ml.cloud.ibm.com\",\n",
    "    \"apikey\":\"E9Nc5hM6K_G7Uqd-S6Hz2TSYeVUWDsgsrDQMDq9Jra5Z\"\n",
    "}\n",
    "client=APIClient(wml_credentials)"
   ]
  },
  {
   "cell_type": "code",
   "execution_count": 3,
   "id": "ad0ebcd3",
   "metadata": {},
   "outputs": [
    {
     "name": "stdout",
     "output_type": "stream",
     "text": [
      "Note: 'limit' is not provided. Only first 50 records will be displayed if the number of records exceed 50\n",
      "------------------------------------  ------------------  ------------------------\n",
      "ID                                    NAME                CREATED\n",
      "e3662a1b-04df-46ed-9550-b081d08af72f  ECG_Classification  2022-11-16T15:33:42.493Z\n",
      "------------------------------------  ------------------  ------------------------\n"
     ]
    }
   ],
   "source": [
    "client.spaces.list()"
   ]
  },
  {
   "cell_type": "code",
   "execution_count": 4,
   "id": "e2f31ec7",
   "metadata": {},
   "outputs": [
    {
     "data": {
      "text/plain": [
       "'SUCCESS'"
      ]
     },
     "execution_count": 4,
     "metadata": {},
     "output_type": "execute_result"
    }
   ],
   "source": [
    "space_uid=\"e3662a1b-04df-46ed-9550-b081d08af72f\"\n",
    "client.set.default_space(space_uid)"
   ]
  },
  {
   "cell_type": "code",
   "execution_count": 5,
   "id": "f957d312",
   "metadata": {},
   "outputs": [
    {
     "data": {
      "text/plain": [
       "'acd9c798-6974-5d2f-a657-ce06e986df4d'"
      ]
     },
     "execution_count": 5,
     "metadata": {},
     "output_type": "execute_result"
    },
    {
     "name": "stderr",
     "output_type": "stream",
     "text": [
      "ERROR: pip's dependency resolver does not currently take into account all the packages that are installed. This behaviour is the source of the following dependency conflicts.\n",
      "moviepy 1.0.3 requires decorator<5.0,>=4.0.2, but you have decorator 5.1.1 which is incompatible.\n",
      "WARNING: You are using pip version 22.0.4; however, version 22.3.1 is available.\n",
      "You should consider upgrading via the 'c:\\users\\vishy\\appdata\\local\\programs\\python\\python38\\python.exe -m pip install --upgrade pip' command.\n"
     ]
    },
    {
     "name": "stdout",
     "output_type": "stream",
     "text": [
      "Collecting watson-machine-learning-client\n",
      "  Downloading watson_machine_learning_client-1.0.391-py3-none-any.whl (538 kB)\n",
      "     ------------------------------------ 538.9/538.9 KB 940.7 kB/s eta 0:00:00\n",
      "Requirement already satisfied: tabulate in c:\\users\\vishy\\appdata\\local\\programs\\python\\python38\\lib\\site-packages (from watson-machine-learning-client) (0.9.0)\n",
      "Requirement already satisfied: urllib3 in c:\\users\\vishy\\appdata\\local\\programs\\python\\python38\\lib\\site-packages (from watson-machine-learning-client) (1.24.3)\n",
      "Requirement already satisfied: requests in c:\\users\\vishy\\appdata\\local\\programs\\python\\python38\\lib\\site-packages (from watson-machine-learning-client) (2.27.1)\n",
      "Requirement already satisfied: lomond in c:\\users\\vishy\\appdata\\local\\programs\\python\\python38\\lib\\site-packages (from watson-machine-learning-client) (0.3.3)\n",
      "Collecting boto3\n",
      "  Downloading boto3-1.26.11-py3-none-any.whl (132 kB)\n",
      "     ------------------------------------ 132.5/132.5 KB 145.0 kB/s eta 0:00:00\n",
      "Requirement already satisfied: tqdm in c:\\users\\vishy\\appdata\\local\\programs\\python\\python38\\lib\\site-packages (from watson-machine-learning-client) (4.51.0)\n",
      "Requirement already satisfied: certifi in c:\\users\\vishy\\appdata\\local\\programs\\python\\python38\\lib\\site-packages (from watson-machine-learning-client) (2020.6.20)\n",
      "Requirement already satisfied: pandas in c:\\users\\vishy\\appdata\\local\\programs\\python\\python38\\lib\\site-packages (from watson-machine-learning-client) (1.1.5)\n",
      "Requirement already satisfied: ibm-cos-sdk in c:\\users\\vishy\\appdata\\local\\programs\\python\\python38\\lib\\site-packages (from watson-machine-learning-client) (2.7.0)\n",
      "Requirement already satisfied: jmespath<2.0.0,>=0.7.1 in c:\\users\\vishy\\appdata\\local\\programs\\python\\python38\\lib\\site-packages (from boto3->watson-machine-learning-client) (0.10.0)\n",
      "Collecting botocore<1.30.0,>=1.29.11\n",
      "  Downloading botocore-1.29.11-py3-none-any.whl (9.9 MB)\n",
      "     ---------------------------------------- 9.9/9.9 MB 717.9 kB/s eta 0:00:00\n",
      "Collecting s3transfer<0.7.0,>=0.6.0\n",
      "  Downloading s3transfer-0.6.0-py3-none-any.whl (79 kB)\n",
      "     -------------------------------------- 79.6/79.6 KB 444.4 kB/s eta 0:00:00\n",
      "Requirement already satisfied: ibm-cos-sdk-core==2.7.0 in c:\\users\\vishy\\appdata\\local\\programs\\python\\python38\\lib\\site-packages (from ibm-cos-sdk->watson-machine-learning-client) (2.7.0)\n",
      "Requirement already satisfied: ibm-cos-sdk-s3transfer==2.7.0 in c:\\users\\vishy\\appdata\\local\\programs\\python\\python38\\lib\\site-packages (from ibm-cos-sdk->watson-machine-learning-client) (2.7.0)\n",
      "Requirement already satisfied: docutils<0.16,>=0.10 in c:\\users\\vishy\\appdata\\local\\programs\\python\\python38\\lib\\site-packages (from ibm-cos-sdk-core==2.7.0->ibm-cos-sdk->watson-machine-learning-client) (0.15.2)\n",
      "Requirement already satisfied: python-dateutil<3.0.0,>=2.1 in c:\\users\\vishy\\appdata\\local\\programs\\python\\python38\\lib\\site-packages (from ibm-cos-sdk-core==2.7.0->ibm-cos-sdk->watson-machine-learning-client) (2.8.2)\n",
      "Requirement already satisfied: idna<4,>=2.5 in c:\\users\\vishy\\appdata\\local\\programs\\python\\python38\\lib\\site-packages (from requests->watson-machine-learning-client) (2.8)\n",
      "Requirement already satisfied: charset-normalizer~=2.0.0 in c:\\users\\vishy\\appdata\\local\\programs\\python\\python38\\lib\\site-packages (from requests->watson-machine-learning-client) (2.0.12)\n",
      "Requirement already satisfied: six>=1.10.0 in c:\\users\\vishy\\appdata\\local\\programs\\python\\python38\\lib\\site-packages (from lomond->watson-machine-learning-client) (1.16.0)\n",
      "Requirement already satisfied: numpy>=1.15.4 in c:\\users\\vishy\\appdata\\local\\programs\\python\\python38\\lib\\site-packages (from pandas->watson-machine-learning-client) (1.19.5)\n",
      "Requirement already satisfied: pytz>=2017.2 in c:\\users\\vishy\\appdata\\local\\programs\\python\\python38\\lib\\site-packages (from pandas->watson-machine-learning-client) (2020.1)\n",
      "Collecting urllib3\n",
      "  Downloading urllib3-1.26.12-py2.py3-none-any.whl (140 kB)\n",
      "     ------------------------------------ 140.4/140.4 KB 641.1 kB/s eta 0:00:00\n",
      "Installing collected packages: urllib3, botocore, s3transfer, boto3, watson-machine-learning-client\n",
      "  Attempting uninstall: urllib3\n",
      "    Found existing installation: urllib3 1.24.3\n",
      "    Uninstalling urllib3-1.24.3:\n",
      "      Successfully uninstalled urllib3-1.24.3\n",
      "Successfully installed boto3-1.26.11 botocore-1.29.11 s3transfer-0.6.0 urllib3-1.26.12 watson-machine-learning-client-1.0.391\n"
     ]
    }
   ],
   "source": [
    "software_spec_uid = client.software_specifications.get_uid_by_name(\"tensorflow_rt22.1-py3.9\")\n",
    "software_spec_uid"
   ]
  },
  {
   "cell_type": "code",
   "execution_count": 7,
   "id": "f5433cac",
   "metadata": {},
   "outputs": [
    {
     "name": "stdout",
     "output_type": "stream",
     "text": [
      "Successfully saved model content to file: 'my_model_vishva.tar.gz'\n"
     ]
    },
    {
     "data": {
      "text/plain": [
       "'d:\\\\Jithu Pgm working\\\\Jithu\\\\Vishva_programs\\\\IBM_nalayathiran\\\\IBM_training/my_model_vishva.tar.gz'"
      ]
     },
     "execution_count": 7,
     "metadata": {},
     "output_type": "execute_result"
    }
   ],
   "source": [
    "client.repository.download('2702a906-fdce-41d7-94d6-bfe8f920aca8','my_model_vishva.tar.gz')"
   ]
  }
 ],
 "metadata": {
  "kernelspec": {
   "display_name": "Python 3.8.1 64-bit",
   "language": "python",
   "name": "python3"
  },
  "language_info": {
   "codemirror_mode": {
    "name": "ipython",
    "version": 3
   },
   "file_extension": ".py",
   "mimetype": "text/x-python",
   "name": "python",
   "nbconvert_exporter": "python",
   "pygments_lexer": "ipython3",
   "version": "3.8.1"
  },
  "vscode": {
   "interpreter": {
    "hash": "d404c85dcdf0bcc210133c23afcfca62c475064e38c0073953b8f0bb0ee88d70"
   }
  }
 },
 "nbformat": 4,
 "nbformat_minor": 5
}
